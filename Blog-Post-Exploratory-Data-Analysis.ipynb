{
 "cells": [
  {
   "cell_type": "code",
   "execution_count": 1,
   "id": "13e15ece",
   "metadata": {},
   "outputs": [],
   "source": [
    "# Import required libraries\n",
    "import numpy as np\n",
    "import pandas as pd\n",
    "from sklearn.linear_model import LinearRegression\n",
    "from sklearn.model_selection import train_test_split\n",
    "from sklearn.metrics import r2_score, mean_squared_error\n",
    "import matplotlib.pyplot as plt\n",
    "import seaborn as sns\n",
    "\n",
    "%matplotlib inline "
   ]
  },
  {
   "cell_type": "code",
   "execution_count": 2,
   "id": "f410d474",
   "metadata": {},
   "outputs": [
    {
     "data": {
      "text/html": [
       "<div>\n",
       "<style scoped>\n",
       "    .dataframe tbody tr th:only-of-type {\n",
       "        vertical-align: middle;\n",
       "    }\n",
       "\n",
       "    .dataframe tbody tr th {\n",
       "        vertical-align: top;\n",
       "    }\n",
       "\n",
       "    .dataframe thead th {\n",
       "        text-align: right;\n",
       "    }\n",
       "</style>\n",
       "<table border=\"1\" class=\"dataframe\">\n",
       "  <thead>\n",
       "    <tr style=\"text-align: right;\">\n",
       "      <th></th>\n",
       "      <th>Unnamed: 0</th>\n",
       "      <th>work_year</th>\n",
       "      <th>experience_level</th>\n",
       "      <th>employment_type</th>\n",
       "      <th>job_title</th>\n",
       "      <th>salary</th>\n",
       "      <th>salary_currency</th>\n",
       "      <th>salary_in_usd</th>\n",
       "      <th>employee_residence</th>\n",
       "      <th>remote_ratio</th>\n",
       "      <th>company_location</th>\n",
       "      <th>company_size</th>\n",
       "    </tr>\n",
       "  </thead>\n",
       "  <tbody>\n",
       "    <tr>\n",
       "      <th>0</th>\n",
       "      <td>0</td>\n",
       "      <td>2020</td>\n",
       "      <td>MI</td>\n",
       "      <td>FT</td>\n",
       "      <td>Data Scientist</td>\n",
       "      <td>70000</td>\n",
       "      <td>EUR</td>\n",
       "      <td>79833</td>\n",
       "      <td>DE</td>\n",
       "      <td>0</td>\n",
       "      <td>DE</td>\n",
       "      <td>L</td>\n",
       "    </tr>\n",
       "    <tr>\n",
       "      <th>1</th>\n",
       "      <td>1</td>\n",
       "      <td>2020</td>\n",
       "      <td>SE</td>\n",
       "      <td>FT</td>\n",
       "      <td>Machine Learning Scientist</td>\n",
       "      <td>260000</td>\n",
       "      <td>USD</td>\n",
       "      <td>260000</td>\n",
       "      <td>JP</td>\n",
       "      <td>0</td>\n",
       "      <td>JP</td>\n",
       "      <td>S</td>\n",
       "    </tr>\n",
       "    <tr>\n",
       "      <th>2</th>\n",
       "      <td>2</td>\n",
       "      <td>2020</td>\n",
       "      <td>SE</td>\n",
       "      <td>FT</td>\n",
       "      <td>Big Data Engineer</td>\n",
       "      <td>85000</td>\n",
       "      <td>GBP</td>\n",
       "      <td>109024</td>\n",
       "      <td>GB</td>\n",
       "      <td>50</td>\n",
       "      <td>GB</td>\n",
       "      <td>M</td>\n",
       "    </tr>\n",
       "    <tr>\n",
       "      <th>3</th>\n",
       "      <td>3</td>\n",
       "      <td>2020</td>\n",
       "      <td>MI</td>\n",
       "      <td>FT</td>\n",
       "      <td>Product Data Analyst</td>\n",
       "      <td>20000</td>\n",
       "      <td>USD</td>\n",
       "      <td>20000</td>\n",
       "      <td>HN</td>\n",
       "      <td>0</td>\n",
       "      <td>HN</td>\n",
       "      <td>S</td>\n",
       "    </tr>\n",
       "    <tr>\n",
       "      <th>4</th>\n",
       "      <td>4</td>\n",
       "      <td>2020</td>\n",
       "      <td>SE</td>\n",
       "      <td>FT</td>\n",
       "      <td>Machine Learning Engineer</td>\n",
       "      <td>150000</td>\n",
       "      <td>USD</td>\n",
       "      <td>150000</td>\n",
       "      <td>US</td>\n",
       "      <td>50</td>\n",
       "      <td>US</td>\n",
       "      <td>L</td>\n",
       "    </tr>\n",
       "  </tbody>\n",
       "</table>\n",
       "</div>"
      ],
      "text/plain": [
       "   Unnamed: 0  work_year experience_level employment_type  \\\n",
       "0           0       2020               MI              FT   \n",
       "1           1       2020               SE              FT   \n",
       "2           2       2020               SE              FT   \n",
       "3           3       2020               MI              FT   \n",
       "4           4       2020               SE              FT   \n",
       "\n",
       "                    job_title  salary salary_currency  salary_in_usd  \\\n",
       "0              Data Scientist   70000             EUR          79833   \n",
       "1  Machine Learning Scientist  260000             USD         260000   \n",
       "2           Big Data Engineer   85000             GBP         109024   \n",
       "3        Product Data Analyst   20000             USD          20000   \n",
       "4   Machine Learning Engineer  150000             USD         150000   \n",
       "\n",
       "  employee_residence  remote_ratio company_location company_size  \n",
       "0                 DE             0               DE            L  \n",
       "1                 JP             0               JP            S  \n",
       "2                 GB            50               GB            M  \n",
       "3                 HN             0               HN            S  \n",
       "4                 US            50               US            L  "
      ]
     },
     "execution_count": 2,
     "metadata": {},
     "output_type": "execute_result"
    }
   ],
   "source": [
    "df = pd.read_csv('./data/ds_salaries.csv')\n",
    "\n",
    "df.head()"
   ]
  },
  {
   "cell_type": "markdown",
   "id": "6f05c331",
   "metadata": {},
   "source": [
    "# Determine Number of rows and columns in the dataset"
   ]
  },
  {
   "cell_type": "code",
   "execution_count": 3,
   "id": "9f691008",
   "metadata": {},
   "outputs": [
    {
     "name": "stdout",
     "output_type": "stream",
     "text": [
      "The input file has 607 rows and 12 columns\n"
     ]
    }
   ],
   "source": [
    "# Number of rows and columns in the input dataset\n",
    "num_rows = df.shape[0]\n",
    "num_cols = df.shape[1]\n",
    "\n",
    "print(f'The input file has {num_rows} rows and {num_cols} columns')"
   ]
  },
  {
   "cell_type": "code",
   "execution_count": 4,
   "id": "6ca19ee9",
   "metadata": {},
   "outputs": [
    {
     "data": {
      "text/plain": [
       "Index(['Unnamed: 0', 'work_year', 'experience_level', 'employment_type',\n",
       "       'job_title', 'salary', 'salary_currency', 'salary_in_usd',\n",
       "       'employee_residence', 'remote_ratio', 'company_location',\n",
       "       'company_size'],\n",
       "      dtype='object')"
      ]
     },
     "execution_count": 4,
     "metadata": {},
     "output_type": "execute_result"
    }
   ],
   "source": [
    "# Columns of the input dataset\n",
    "df.columns"
   ]
  },
  {
   "cell_type": "markdown",
   "id": "e0f4af10",
   "metadata": {},
   "source": [
    "# Determine columns having no missing values\n",
    "From the results below, we infer that all columns have no missing values."
   ]
  },
  {
   "cell_type": "code",
   "execution_count": 5,
   "id": "be0d9949",
   "metadata": {},
   "outputs": [
    {
     "data": {
      "text/plain": [
       "{'Unnamed: 0',\n",
       " 'company_location',\n",
       " 'company_size',\n",
       " 'employee_residence',\n",
       " 'employment_type',\n",
       " 'experience_level',\n",
       " 'job_title',\n",
       " 'remote_ratio',\n",
       " 'salary',\n",
       " 'salary_currency',\n",
       " 'salary_in_usd',\n",
       " 'work_year'}"
      ]
     },
     "execution_count": 5,
     "metadata": {},
     "output_type": "execute_result"
    }
   ],
   "source": [
    "# Determine the list of no missing value columns\n",
    "no_null_cols = set(df.columns[df.isnull().mean()==0])\n",
    "\n",
    "no_null_cols"
   ]
  },
  {
   "cell_type": "code",
   "execution_count": 6,
   "id": "af58d595",
   "metadata": {},
   "outputs": [
    {
     "name": "stdout",
     "output_type": "stream",
     "text": [
      "<class 'pandas.core.frame.DataFrame'>\n",
      "RangeIndex: 607 entries, 0 to 606\n",
      "Data columns (total 12 columns):\n",
      " #   Column              Non-Null Count  Dtype \n",
      "---  ------              --------------  ----- \n",
      " 0   Unnamed: 0          607 non-null    int64 \n",
      " 1   work_year           607 non-null    int64 \n",
      " 2   experience_level    607 non-null    object\n",
      " 3   employment_type     607 non-null    object\n",
      " 4   job_title           607 non-null    object\n",
      " 5   salary              607 non-null    int64 \n",
      " 6   salary_currency     607 non-null    object\n",
      " 7   salary_in_usd       607 non-null    int64 \n",
      " 8   employee_residence  607 non-null    object\n",
      " 9   remote_ratio        607 non-null    int64 \n",
      " 10  company_location    607 non-null    object\n",
      " 11  company_size        607 non-null    object\n",
      "dtypes: int64(5), object(7)\n",
      "memory usage: 57.0+ KB\n"
     ]
    }
   ],
   "source": [
    "# This is another way of checking which columns have missing values. We find below that\n",
    "# all coluns are not null, and therefore does not contain any null values.\n",
    "df.info()"
   ]
  },
  {
   "cell_type": "markdown",
   "id": "c96d539a",
   "metadata": {},
   "source": [
    "# Closer Look at numerical columns"
   ]
  },
  {
   "cell_type": "code",
   "execution_count": 7,
   "id": "d0a520ad",
   "metadata": {},
   "outputs": [
    {
     "data": {
      "text/html": [
       "<div>\n",
       "<style scoped>\n",
       "    .dataframe tbody tr th:only-of-type {\n",
       "        vertical-align: middle;\n",
       "    }\n",
       "\n",
       "    .dataframe tbody tr th {\n",
       "        vertical-align: top;\n",
       "    }\n",
       "\n",
       "    .dataframe thead th {\n",
       "        text-align: right;\n",
       "    }\n",
       "</style>\n",
       "<table border=\"1\" class=\"dataframe\">\n",
       "  <thead>\n",
       "    <tr style=\"text-align: right;\">\n",
       "      <th></th>\n",
       "      <th>work_year</th>\n",
       "      <th>remote_ratio</th>\n",
       "      <th>salary</th>\n",
       "      <th>salary_in_usd</th>\n",
       "    </tr>\n",
       "  </thead>\n",
       "  <tbody>\n",
       "    <tr>\n",
       "      <th>0</th>\n",
       "      <td>2020</td>\n",
       "      <td>0</td>\n",
       "      <td>70000</td>\n",
       "      <td>79833</td>\n",
       "    </tr>\n",
       "    <tr>\n",
       "      <th>1</th>\n",
       "      <td>2020</td>\n",
       "      <td>0</td>\n",
       "      <td>260000</td>\n",
       "      <td>260000</td>\n",
       "    </tr>\n",
       "    <tr>\n",
       "      <th>2</th>\n",
       "      <td>2020</td>\n",
       "      <td>50</td>\n",
       "      <td>85000</td>\n",
       "      <td>109024</td>\n",
       "    </tr>\n",
       "    <tr>\n",
       "      <th>3</th>\n",
       "      <td>2020</td>\n",
       "      <td>0</td>\n",
       "      <td>20000</td>\n",
       "      <td>20000</td>\n",
       "    </tr>\n",
       "    <tr>\n",
       "      <th>4</th>\n",
       "      <td>2020</td>\n",
       "      <td>50</td>\n",
       "      <td>150000</td>\n",
       "      <td>150000</td>\n",
       "    </tr>\n",
       "  </tbody>\n",
       "</table>\n",
       "</div>"
      ],
      "text/plain": [
       "   work_year  remote_ratio  salary  salary_in_usd\n",
       "0       2020             0   70000          79833\n",
       "1       2020             0  260000         260000\n",
       "2       2020            50   85000         109024\n",
       "3       2020             0   20000          20000\n",
       "4       2020            50  150000         150000"
      ]
     },
     "execution_count": 7,
     "metadata": {},
     "output_type": "execute_result"
    }
   ],
   "source": [
    "# Construct a dataframe of all numeric columns \n",
    "num_df = df[['work_year', 'remote_ratio', 'salary', 'salary_in_usd']]\n",
    "\n",
    "num_df.head()"
   ]
  },
  {
   "cell_type": "code",
   "execution_count": 8,
   "id": "7d403674",
   "metadata": {},
   "outputs": [
    {
     "data": {
      "text/html": [
       "<div>\n",
       "<style scoped>\n",
       "    .dataframe tbody tr th:only-of-type {\n",
       "        vertical-align: middle;\n",
       "    }\n",
       "\n",
       "    .dataframe tbody tr th {\n",
       "        vertical-align: top;\n",
       "    }\n",
       "\n",
       "    .dataframe thead th {\n",
       "        text-align: right;\n",
       "    }\n",
       "</style>\n",
       "<table border=\"1\" class=\"dataframe\">\n",
       "  <thead>\n",
       "    <tr style=\"text-align: right;\">\n",
       "      <th></th>\n",
       "      <th>work_year</th>\n",
       "      <th>remote_ratio</th>\n",
       "      <th>salary</th>\n",
       "      <th>salary_in_usd</th>\n",
       "    </tr>\n",
       "  </thead>\n",
       "  <tbody>\n",
       "    <tr>\n",
       "      <th>count</th>\n",
       "      <td>607.000000</td>\n",
       "      <td>607.00000</td>\n",
       "      <td>6.070000e+02</td>\n",
       "      <td>607.000000</td>\n",
       "    </tr>\n",
       "    <tr>\n",
       "      <th>mean</th>\n",
       "      <td>2021.405272</td>\n",
       "      <td>70.92257</td>\n",
       "      <td>3.240001e+05</td>\n",
       "      <td>112297.869852</td>\n",
       "    </tr>\n",
       "    <tr>\n",
       "      <th>std</th>\n",
       "      <td>0.692133</td>\n",
       "      <td>40.70913</td>\n",
       "      <td>1.544357e+06</td>\n",
       "      <td>70957.259411</td>\n",
       "    </tr>\n",
       "    <tr>\n",
       "      <th>min</th>\n",
       "      <td>2020.000000</td>\n",
       "      <td>0.00000</td>\n",
       "      <td>4.000000e+03</td>\n",
       "      <td>2859.000000</td>\n",
       "    </tr>\n",
       "    <tr>\n",
       "      <th>25%</th>\n",
       "      <td>2021.000000</td>\n",
       "      <td>50.00000</td>\n",
       "      <td>7.000000e+04</td>\n",
       "      <td>62726.000000</td>\n",
       "    </tr>\n",
       "    <tr>\n",
       "      <th>50%</th>\n",
       "      <td>2022.000000</td>\n",
       "      <td>100.00000</td>\n",
       "      <td>1.150000e+05</td>\n",
       "      <td>101570.000000</td>\n",
       "    </tr>\n",
       "    <tr>\n",
       "      <th>75%</th>\n",
       "      <td>2022.000000</td>\n",
       "      <td>100.00000</td>\n",
       "      <td>1.650000e+05</td>\n",
       "      <td>150000.000000</td>\n",
       "    </tr>\n",
       "    <tr>\n",
       "      <th>max</th>\n",
       "      <td>2022.000000</td>\n",
       "      <td>100.00000</td>\n",
       "      <td>3.040000e+07</td>\n",
       "      <td>600000.000000</td>\n",
       "    </tr>\n",
       "  </tbody>\n",
       "</table>\n",
       "</div>"
      ],
      "text/plain": [
       "         work_year  remote_ratio        salary  salary_in_usd\n",
       "count   607.000000     607.00000  6.070000e+02     607.000000\n",
       "mean   2021.405272      70.92257  3.240001e+05  112297.869852\n",
       "std       0.692133      40.70913  1.544357e+06   70957.259411\n",
       "min    2020.000000       0.00000  4.000000e+03    2859.000000\n",
       "25%    2021.000000      50.00000  7.000000e+04   62726.000000\n",
       "50%    2022.000000     100.00000  1.150000e+05  101570.000000\n",
       "75%    2022.000000     100.00000  1.650000e+05  150000.000000\n",
       "max    2022.000000     100.00000  3.040000e+07  600000.000000"
      ]
     },
     "execution_count": 8,
     "metadata": {},
     "output_type": "execute_result"
    }
   ],
   "source": [
    "# Get descriptive statistics of nthese umerical columns\n",
    "num_df.describe()"
   ]
  },
  {
   "cell_type": "code",
   "execution_count": 9,
   "id": "e36438b5",
   "metadata": {},
   "outputs": [
    {
     "data": {
      "text/plain": [
       "1.0"
      ]
     },
     "execution_count": 9,
     "metadata": {},
     "output_type": "execute_result"
    }
   ],
   "source": [
    "# Proportion of not null values in target column - salary_in_usd\n",
    "prop_sals = 1 - num_df['salary_in_usd'].isnull().mean()\n",
    "\n",
    "prop_sals"
   ]
  },
  {
   "cell_type": "code",
   "execution_count": 10,
   "id": "8fcda1cd",
   "metadata": {},
   "outputs": [
    {
     "data": {
      "text/plain": [
       "(607, 4)"
      ]
     },
     "execution_count": 10,
     "metadata": {},
     "output_type": "execute_result"
    }
   ],
   "source": [
    "# Remove rows with missing salary_in_usd values\n",
    "# Helpful if we receive missing target (i.e., salary_in_usd) values in the future\n",
    "sal_rm_df = num_df.dropna(subset=['salary_in_usd'])\n",
    "\n",
    "sal_rm_df.shape"
   ]
  },
  {
   "cell_type": "code",
   "execution_count": 11,
   "id": "93e15fff",
   "metadata": {},
   "outputs": [
    {
     "data": {
      "text/plain": [
       "(607, 4)"
      ]
     },
     "execution_count": 11,
     "metadata": {},
     "output_type": "execute_result"
    }
   ],
   "source": [
    "# Remove rows with missing input column values\n",
    "# Helpful if we receive missing numerical input values in the future\n",
    "all_rm_df = sal_rm_df.dropna()\n",
    "\n",
    "all_rm_df.shape"
   ]
  },
  {
   "cell_type": "code",
   "execution_count": 12,
   "id": "f75493b0",
   "metadata": {},
   "outputs": [],
   "source": [
    "# After this analysis we determine that all 607 rows of the input data are retained."
   ]
  },
  {
   "cell_type": "markdown",
   "id": "377d6431",
   "metadata": {},
   "source": [
    "# Exploratory Analysis of numerical columns"
   ]
  },
  {
   "cell_type": "markdown",
   "id": "fd896dc6",
   "metadata": {},
   "source": [
    "## Bar Plot for Work Year\n",
    "The year for which the salary was paid."
   ]
  },
  {
   "cell_type": "code",
   "execution_count": 13,
   "id": "2ee89518",
   "metadata": {},
   "outputs": [
    {
     "data": {
      "image/png": "[encoded data removed]",
      "text/plain": [
       "<Figure size 432x288 with 1 Axes>"
      ]
     },
     "metadata": {
      "needs_background": "light"
     },
     "output_type": "display_data"
    }
   ],
   "source": [
    "# Calculate value frequency and draw bar plot\n",
    "work_year_vals = df.work_year.value_counts()\n",
    "\n",
    "work_year_vals.plot(kind='bar');\n",
    "plt.title('Work Year');"
   ]
  },
  {
   "cell_type": "markdown",
   "id": "99819fd5",
   "metadata": {},
   "source": [
    "## Bar Plot for Remote Ratio\n",
    "A classification of overall amount of work done remotely. possible values are: \n",
    "- 0   - No remote work (less than 20%)\n",
    "- 50  - Partially remote \n",
    "- 100 - Fully remote (more than 80%)"
   ]
  },
  {
   "cell_type": "code",
   "execution_count": 14,
   "id": "77f08cc6",
   "metadata": {},
   "outputs": [
    {
     "data": {
      "image/png": "[encoded data removed]",
      "text/plain": [
       "<Figure size 432x288 with 1 Axes>"
      ]
     },
     "metadata": {
      "needs_background": "light"
     },
     "output_type": "display_data"
    }
   ],
   "source": [
    "# Calculate value frequency and draw bar plot\n",
    "remote_ratio_vals = df.remote_ratio.value_counts()\n",
    "\n",
    "remote_ratio_vals.plot(kind='bar');\n",
    "plt.title('Remote Ratio');"
   ]
  },
  {
   "cell_type": "markdown",
   "id": "11b4b7d3",
   "metadata": {},
   "source": [
    "## Box Plot for Salary in Local Currency\n",
    "Total amount of gross salary paid in local currency. "
   ]
  },
  {
   "cell_type": "code",
   "execution_count": 15,
   "id": "0d718b64",
   "metadata": {},
   "outputs": [
    {
     "data": {
      "image/png": "[encoded data removed]",
      "text/plain": [
       "<Figure size 432x288 with 1 Axes>"
      ]
     },
     "metadata": {
      "needs_background": "light"
     },
     "output_type": "display_data"
    }
   ],
   "source": [
    "# Calculate value frequency and draw bar plot\n",
    "sns.boxplot(x=df['work_year'], y=df['salary']);\n",
    "plt.title('Salary in Local Currency');"
   ]
  },
  {
   "cell_type": "markdown",
   "id": "60303c48",
   "metadata": {},
   "source": [
    "## Box Plot for Salary in USD\n",
    "Total gross salary in local currency converted to amount in USD."
   ]
  },
  {
   "cell_type": "code",
   "execution_count": 16,
   "id": "b919759c",
   "metadata": {},
   "outputs": [
    {
     "data": {
      "image/png": "[encoded data removed]",
      "text/plain": [
       "<Figure size 432x288 with 1 Axes>"
      ]
     },
     "metadata": {
      "needs_background": "light"
     },
     "output_type": "display_data"
    }
   ],
   "source": [
    "# Calculate value frequency and draw bar plot\n",
    "sns.boxplot(x=df['work_year'], y=df['salary_in_usd']);\n",
    "plt.title('Salary in USD');"
   ]
  },
  {
   "cell_type": "markdown",
   "id": "b44e9bf8",
   "metadata": {},
   "source": [
    "# Exploratary Analysis of catagorical columns\n",
    "Following are the catagorical columns of this dataset:\n",
    " -   experience_level\n",
    " -   employment_type\n",
    " -   job_title\n",
    " -   salary_currency\n",
    " -   employee_residence\n",
    " -  company_location\n",
    " -  company_size"
   ]
  },
  {
   "cell_type": "markdown",
   "id": "95c163b7",
   "metadata": {},
   "source": [
    "## Bar plot for Experience Level\n",
    "The experience level of the job during the work year. Possible values are: \n",
    "- EN - Entry-level / Junior \n",
    "- MI - Mid-level / Intermediate \n",
    "- SE - Senior-level / Expert \n",
    "- EX - Executive-level / Director"
   ]
  },
  {
   "cell_type": "code",
   "execution_count": 17,
   "id": "9eed7010",
   "metadata": {},
   "outputs": [
    {
     "data": {
      "image/png": "[encoded data removed]",
      "text/plain": [
       "<Figure size 432x288 with 1 Axes>"
      ]
     },
     "metadata": {
      "needs_background": "light"
     },
     "output_type": "display_data"
    }
   ],
   "source": [
    "# Calculate value frequency and draw bar plot\n",
    "experience_level_vals = df.experience_level.value_counts()\n",
    "\n",
    "(experience_level_vals/num_rows).plot(kind='bar');\n",
    "plt.title('Experience level');"
   ]
  },
  {
   "cell_type": "markdown",
   "id": "116d9344",
   "metadata": {},
   "source": [
    "## Bar plot for Employment Type\n",
    "The type of employement of the employee. Possible values are: \n",
    "- PT - Part-time \n",
    "- FT - Full-time \n",
    "- CT - Contract \n",
    "- FL - Freelance"
   ]
  },
  {
   "cell_type": "code",
   "execution_count": 18,
   "id": "30535f20",
   "metadata": {},
   "outputs": [
    {
     "data": {
      "image/png": "[encoded data removed]",
      "text/plain": [
       "<Figure size 432x288 with 1 Axes>"
      ]
     },
     "metadata": {
      "needs_background": "light"
     },
     "output_type": "display_data"
    }
   ],
   "source": [
    "# Calculate value frequency and draw bar plot\n",
    "employment_type_vals = df.employment_type.value_counts()\n",
    "\n",
    "(employment_type_vals/num_rows).plot(kind='bar');\n",
    "plt.title('Employment Type');"
   ]
  },
  {
   "cell_type": "markdown",
   "id": "51490784",
   "metadata": {},
   "source": [
    "## Bar plot for Job Title\n",
    "The role worked in during the year."
   ]
  },
  {
   "cell_type": "code",
   "execution_count": 19,
   "id": "d24be1c7",
   "metadata": {},
   "outputs": [
    {
     "data": {
      "image/png": "[encoded data removed]",
      "text/plain": [
       "<Figure size 432x288 with 1 Axes>"
      ]
     },
     "metadata": {
      "needs_background": "light"
     },
     "output_type": "display_data"
    }
   ],
   "source": [
    "# Calculate value frequency and draw bar plot\n",
    "job_title_vals = df.job_title.value_counts()[:15]\n",
    "\n",
    "(job_title_vals/num_rows).plot(kind='bar');\n",
    "plt.title('Job Title (top 15)');"
   ]
  },
  {
   "cell_type": "markdown",
   "id": "05e03c86",
   "metadata": {},
   "source": [
    "## Bar plot for Salary Currency\n",
    "The currency in which the salary paid. It is an ISO 3 character currency code."
   ]
  },
  {
   "cell_type": "code",
   "execution_count": 20,
   "id": "b9289b57",
   "metadata": {},
   "outputs": [
    {
     "data": {
      "image/png": "[encoded data removed]",
      "text/plain": [
       "<Figure size 432x288 with 1 Axes>"
      ]
     },
     "metadata": {
      "needs_background": "light"
     },
     "output_type": "display_data"
    }
   ],
   "source": [
    "# Calculate value frequency and draw bar plot\n",
    "salary_currency_vals = df.salary_currency.value_counts()\n",
    "\n",
    "(salary_currency_vals/num_rows).plot(kind='bar');\n",
    "plt.title('Salary Currency');"
   ]
  },
  {
   "cell_type": "markdown",
   "id": "36fa6652",
   "metadata": {},
   "source": [
    "## Bar plot for Employee Residence Country\n",
    "Employee's primary country of residence. It is an ISO 2 character country code."
   ]
  },
  {
   "cell_type": "code",
   "execution_count": 21,
   "id": "f6dd43dd",
   "metadata": {},
   "outputs": [
    {
     "data": {
      "image/png": "[encoded data removed]",
      "text/plain": [
       "<Figure size 432x288 with 1 Axes>"
      ]
     },
     "metadata": {
      "needs_background": "light"
     },
     "output_type": "display_data"
    }
   ],
   "source": [
    "# Calculate value frequency and draw bar plot\n",
    "employee_residence_vals = df.employee_residence.value_counts()[:15]\n",
    "\n",
    "(employee_residence_vals/num_rows).plot(kind='bar');\n",
    "plt.title('Employee Residence Country (top 15)');"
   ]
  },
  {
   "cell_type": "markdown",
   "id": "b7a6ca93",
   "metadata": {},
   "source": [
    "## Bar plot for Company Location Country\n",
    "The country where employer's main office or contracting branch is located. It is an ISO two character country code."
   ]
  },
  {
   "cell_type": "code",
   "execution_count": 22,
   "id": "a6a02526",
   "metadata": {},
   "outputs": [
    {
     "data": {
      "image/png": "[encoded data removed]",
      "text/plain": [
       "<Figure size 432x288 with 1 Axes>"
      ]
     },
     "metadata": {
      "needs_background": "light"
     },
     "output_type": "display_data"
    }
   ],
   "source": [
    "# Calculate value frequency and draw bar plot\n",
    "company_location_vals = df.company_location.value_counts()[:15]\n",
    "\n",
    "(company_location_vals/num_rows).plot(kind='bar');\n",
    "plt.title('Company Location Country (top 15)');"
   ]
  },
  {
   "cell_type": "markdown",
   "id": "062c1847",
   "metadata": {},
   "source": [
    "## Bar plot for Company Size\n",
    "The average number of people that worked for the company during the year of salary payment. Possible values are: \n",
    "- S - less than 50 employees (small) \n",
    "- M - 50 to 250 employees (medium) \n",
    "- L - more than 250 employees (large)"
   ]
  },
  {
   "cell_type": "code",
   "execution_count": 23,
   "id": "09abe8e7",
   "metadata": {},
   "outputs": [
    {
     "data": {
      "image/png": "[encoded data removed]",
      "text/plain": [
       "<Figure size 432x288 with 1 Axes>"
      ]
     },
     "metadata": {
      "needs_background": "light"
     },
     "output_type": "display_data"
    }
   ],
   "source": [
    "# Calculate value frequency and draw bar plot\n",
    "company_size_vals = df.company_size.value_counts()\n",
    "\n",
    "(company_size_vals/num_rows).plot(kind='bar');\n",
    "plt.title('Company Size');"
   ]
  },
  {
   "cell_type": "code",
   "execution_count": 24,
   "id": "27157104",
   "metadata": {},
   "outputs": [],
   "source": [
    "# End of Exploratory Analysis"
   ]
  },
  {
   "cell_type": "code",
   "execution_count": null,
   "id": "077672d8",
   "metadata": {},
   "outputs": [],
   "source": []
  }
 ],
 "metadata": {
  "kernelspec": {
   "display_name": "Python 3 (ipykernel)",
   "language": "python",
   "name": "python3"
  },
  "language_info": {
   "codemirror_mode": {
    "name": "ipython",
    "version": 3
   },
   "file_extension": ".py",
   "mimetype": "text/x-python",
   "name": "python",
   "nbconvert_exporter": "python",
   "pygments_lexer": "ipython3",
   "version": "3.9.12"
  }
 },
 "nbformat": 4,
 "nbformat_minor": 5
}
