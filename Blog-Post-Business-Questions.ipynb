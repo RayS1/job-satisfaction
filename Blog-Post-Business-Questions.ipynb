{
 "cells": [
  {
   "cell_type": "markdown",
   "id": "0a219136",
   "metadata": {},
   "source": [
    "# Data Scientist's Blog Post - Business Questions Answered\n",
    "\n",
    "We have come up with a set of business questions which we will answer with help of chosen dataset. All these question are to be ansered using a subset of our dataset - US resident full-time Data Scientist.\n",
    "\n",
    "## Exploratory Data Analysis - available as separate notebook\n",
    "Please note that there is a separate notebook for exploratory data analysis of the dataset. This file is available in the folder as the current notebook."
   ]
  },
  {
   "cell_type": "markdown",
   "id": "821bf103",
   "metadata": {},
   "source": [
    "# Business Questions\n",
    "In this note, we will be dealing with a few business questions and answer them using the selected dataset. These Business Questions are:\n",
    "- Q1: Does Job Satisfaction depend on Organization Type?\n",
    "- Q2: Is there any correlation between Salary and Job Satisfaction?\n",
    "- Q3: Does increase in Time Spent on Job Hunting indicate decline in Job Satisfaction?\n"
   ]
  },
  {
   "cell_type": "markdown",
   "id": "c0f8f8e2",
   "metadata": {},
   "source": [
    "## Important Points to Note\n",
    "- US resident, full-time employee who work as Data Scientist were used for finding answers to the Business Questions. \n",
    "- We found similar answers for Web Developer and Mobile Developer data sets."
   ]
  },
  {
   "cell_type": "markdown",
   "id": "de4fa871",
   "metadata": {},
   "source": [
    "## Gather necessary data\n",
    "In order to answer these questions we will first gather Stack Overflow Survey data."
   ]
  },
  {
   "cell_type": "code",
   "execution_count": 1,
   "id": "13e15ece",
   "metadata": {},
   "outputs": [],
   "source": [
    "# Import required libraries\n",
    "import pandas as pd\n",
    "import numpy as np\n",
    "import matplotlib.pyplot as plt\n",
    "import seaborn as sns\n",
    "\n",
    "import warnings\n",
    "warnings.simplefilter(action='ignore', category=FutureWarning)\n",
    "\n",
    "from pandas.core.common import SettingWithCopyWarning\n",
    "warnings.simplefilter(action=\"ignore\", category=SettingWithCopyWarning)\n",
    "\n",
    "%matplotlib inline \n",
    "\n",
    "pd.set_option('display.max_columns', 25)\n",
    "pd.set_option('display.max_rows', 200)\n",
    "pd.set_option('display.max_colwidth', None)"
   ]
  },
  {
   "cell_type": "code",
   "execution_count": 2,
   "id": "f410d474",
   "metadata": {},
   "outputs": [
    {
     "data": {
      "text/html": [
       "<div>\n",
       "<style scoped>\n",
       "    .dataframe tbody tr th:only-of-type {\n",
       "        vertical-align: middle;\n",
       "    }\n",
       "\n",
       "    .dataframe tbody tr th {\n",
       "        vertical-align: top;\n",
       "    }\n",
       "\n",
       "    .dataframe thead th {\n",
       "        text-align: right;\n",
       "    }\n",
       "</style>\n",
       "<table border=\"1\" class=\"dataframe\">\n",
       "  <thead>\n",
       "    <tr style=\"text-align: right;\">\n",
       "      <th></th>\n",
       "      <th>Respondent</th>\n",
       "      <th>Professional</th>\n",
       "      <th>ProgramHobby</th>\n",
       "      <th>Country</th>\n",
       "      <th>University</th>\n",
       "      <th>EmploymentStatus</th>\n",
       "      <th>FormalEducation</th>\n",
       "      <th>MajorUndergrad</th>\n",
       "      <th>HomeRemote</th>\n",
       "      <th>CompanySize</th>\n",
       "      <th>CompanyType</th>\n",
       "      <th>YearsProgram</th>\n",
       "      <th>...</th>\n",
       "      <th>StackOverflowBetter</th>\n",
       "      <th>StackOverflowWhatDo</th>\n",
       "      <th>StackOverflowMakeMoney</th>\n",
       "      <th>Gender</th>\n",
       "      <th>HighestEducationParents</th>\n",
       "      <th>Race</th>\n",
       "      <th>SurveyLong</th>\n",
       "      <th>QuestionsInteresting</th>\n",
       "      <th>QuestionsConfusing</th>\n",
       "      <th>InterestedAnswers</th>\n",
       "      <th>Salary</th>\n",
       "      <th>ExpectedSalary</th>\n",
       "    </tr>\n",
       "  </thead>\n",
       "  <tbody>\n",
       "    <tr>\n",
       "      <th>0</th>\n",
       "      <td>1</td>\n",
       "      <td>Student</td>\n",
       "      <td>Yes, both</td>\n",
       "      <td>United States</td>\n",
       "      <td>No</td>\n",
       "      <td>Not employed, and not looking for work</td>\n",
       "      <td>Secondary school</td>\n",
       "      <td>NaN</td>\n",
       "      <td>NaN</td>\n",
       "      <td>NaN</td>\n",
       "      <td>NaN</td>\n",
       "      <td>2 to 3 years</td>\n",
       "      <td>...</td>\n",
       "      <td>Strongly agree</td>\n",
       "      <td>Strongly agree</td>\n",
       "      <td>Strongly disagree</td>\n",
       "      <td>Male</td>\n",
       "      <td>High school</td>\n",
       "      <td>White or of European descent</td>\n",
       "      <td>Strongly disagree</td>\n",
       "      <td>Strongly agree</td>\n",
       "      <td>Disagree</td>\n",
       "      <td>Strongly agree</td>\n",
       "      <td>NaN</td>\n",
       "      <td>NaN</td>\n",
       "    </tr>\n",
       "    <tr>\n",
       "      <th>1</th>\n",
       "      <td>2</td>\n",
       "      <td>Student</td>\n",
       "      <td>Yes, both</td>\n",
       "      <td>United Kingdom</td>\n",
       "      <td>Yes, full-time</td>\n",
       "      <td>Employed part-time</td>\n",
       "      <td>Some college/university study without earning a bachelor's degree</td>\n",
       "      <td>Computer science or software engineering</td>\n",
       "      <td>More than half, but not all, the time</td>\n",
       "      <td>20 to 99 employees</td>\n",
       "      <td>Privately-held limited company, not in startup mode</td>\n",
       "      <td>9 to 10 years</td>\n",
       "      <td>...</td>\n",
       "      <td>Strongly agree</td>\n",
       "      <td>Strongly agree</td>\n",
       "      <td>Strongly disagree</td>\n",
       "      <td>Male</td>\n",
       "      <td>A master's degree</td>\n",
       "      <td>White or of European descent</td>\n",
       "      <td>Somewhat agree</td>\n",
       "      <td>Somewhat agree</td>\n",
       "      <td>Disagree</td>\n",
       "      <td>Strongly agree</td>\n",
       "      <td>NaN</td>\n",
       "      <td>37500.0</td>\n",
       "    </tr>\n",
       "    <tr>\n",
       "      <th>2</th>\n",
       "      <td>3</td>\n",
       "      <td>Professional developer</td>\n",
       "      <td>Yes, both</td>\n",
       "      <td>United Kingdom</td>\n",
       "      <td>No</td>\n",
       "      <td>Employed full-time</td>\n",
       "      <td>Bachelor's degree</td>\n",
       "      <td>Computer science or software engineering</td>\n",
       "      <td>Less than half the time, but at least one day each week</td>\n",
       "      <td>10,000 or more employees</td>\n",
       "      <td>Publicly-traded corporation</td>\n",
       "      <td>20 or more years</td>\n",
       "      <td>...</td>\n",
       "      <td>Agree</td>\n",
       "      <td>Agree</td>\n",
       "      <td>Disagree</td>\n",
       "      <td>Male</td>\n",
       "      <td>A professional degree</td>\n",
       "      <td>White or of European descent</td>\n",
       "      <td>Somewhat agree</td>\n",
       "      <td>Agree</td>\n",
       "      <td>Disagree</td>\n",
       "      <td>Agree</td>\n",
       "      <td>113750.0</td>\n",
       "      <td>NaN</td>\n",
       "    </tr>\n",
       "    <tr>\n",
       "      <th>3</th>\n",
       "      <td>4</td>\n",
       "      <td>Professional non-developer who sometimes writes code</td>\n",
       "      <td>Yes, both</td>\n",
       "      <td>United States</td>\n",
       "      <td>No</td>\n",
       "      <td>Employed full-time</td>\n",
       "      <td>Doctoral degree</td>\n",
       "      <td>A non-computer-focused engineering discipline</td>\n",
       "      <td>Less than half the time, but at least one day each week</td>\n",
       "      <td>10,000 or more employees</td>\n",
       "      <td>Non-profit/non-governmental organization or private school/university</td>\n",
       "      <td>14 to 15 years</td>\n",
       "      <td>...</td>\n",
       "      <td>Agree</td>\n",
       "      <td>Strongly agree</td>\n",
       "      <td>Disagree</td>\n",
       "      <td>Male</td>\n",
       "      <td>A doctoral degree</td>\n",
       "      <td>White or of European descent</td>\n",
       "      <td>Agree</td>\n",
       "      <td>Agree</td>\n",
       "      <td>Somewhat agree</td>\n",
       "      <td>Strongly agree</td>\n",
       "      <td>NaN</td>\n",
       "      <td>NaN</td>\n",
       "    </tr>\n",
       "    <tr>\n",
       "      <th>4</th>\n",
       "      <td>5</td>\n",
       "      <td>Professional developer</td>\n",
       "      <td>Yes, I program as a hobby</td>\n",
       "      <td>Switzerland</td>\n",
       "      <td>No</td>\n",
       "      <td>Employed full-time</td>\n",
       "      <td>Master's degree</td>\n",
       "      <td>Computer science or software engineering</td>\n",
       "      <td>Never</td>\n",
       "      <td>10 to 19 employees</td>\n",
       "      <td>Privately-held limited company, not in startup mode</td>\n",
       "      <td>20 or more years</td>\n",
       "      <td>...</td>\n",
       "      <td>NaN</td>\n",
       "      <td>NaN</td>\n",
       "      <td>NaN</td>\n",
       "      <td>NaN</td>\n",
       "      <td>NaN</td>\n",
       "      <td>NaN</td>\n",
       "      <td>NaN</td>\n",
       "      <td>NaN</td>\n",
       "      <td>NaN</td>\n",
       "      <td>NaN</td>\n",
       "      <td>NaN</td>\n",
       "      <td>NaN</td>\n",
       "    </tr>\n",
       "  </tbody>\n",
       "</table>\n",
       "<p>5 rows × 154 columns</p>\n",
       "</div>"
      ],
      "text/plain": [
       "   Respondent                                          Professional  \\\n",
       "0           1                                               Student   \n",
       "1           2                                               Student   \n",
       "2           3                                Professional developer   \n",
       "3           4  Professional non-developer who sometimes writes code   \n",
       "4           5                                Professional developer   \n",
       "\n",
       "                ProgramHobby         Country      University  \\\n",
       "0                  Yes, both   United States              No   \n",
       "1                  Yes, both  United Kingdom  Yes, full-time   \n",
       "2                  Yes, both  United Kingdom              No   \n",
       "3                  Yes, both   United States              No   \n",
       "4  Yes, I program as a hobby     Switzerland              No   \n",
       "\n",
       "                         EmploymentStatus  \\\n",
       "0  Not employed, and not looking for work   \n",
       "1                      Employed part-time   \n",
       "2                      Employed full-time   \n",
       "3                      Employed full-time   \n",
       "4                      Employed full-time   \n",
       "\n",
       "                                                     FormalEducation  \\\n",
       "0                                                   Secondary school   \n",
       "1  Some college/university study without earning a bachelor's degree   \n",
       "2                                                  Bachelor's degree   \n",
       "3                                                    Doctoral degree   \n",
       "4                                                    Master's degree   \n",
       "\n",
       "                                  MajorUndergrad  \\\n",
       "0                                            NaN   \n",
       "1       Computer science or software engineering   \n",
       "2       Computer science or software engineering   \n",
       "3  A non-computer-focused engineering discipline   \n",
       "4       Computer science or software engineering   \n",
       "\n",
       "                                                HomeRemote  \\\n",
       "0                                                      NaN   \n",
       "1                    More than half, but not all, the time   \n",
       "2  Less than half the time, but at least one day each week   \n",
       "3  Less than half the time, but at least one day each week   \n",
       "4                                                    Never   \n",
       "\n",
       "                CompanySize  \\\n",
       "0                       NaN   \n",
       "1        20 to 99 employees   \n",
       "2  10,000 or more employees   \n",
       "3  10,000 or more employees   \n",
       "4        10 to 19 employees   \n",
       "\n",
       "                                                             CompanyType  \\\n",
       "0                                                                    NaN   \n",
       "1                    Privately-held limited company, not in startup mode   \n",
       "2                                            Publicly-traded corporation   \n",
       "3  Non-profit/non-governmental organization or private school/university   \n",
       "4                    Privately-held limited company, not in startup mode   \n",
       "\n",
       "       YearsProgram  ... StackOverflowBetter StackOverflowWhatDo  \\\n",
       "0      2 to 3 years  ...      Strongly agree      Strongly agree   \n",
       "1     9 to 10 years  ...      Strongly agree      Strongly agree   \n",
       "2  20 or more years  ...               Agree               Agree   \n",
       "3    14 to 15 years  ...               Agree      Strongly agree   \n",
       "4  20 or more years  ...                 NaN                 NaN   \n",
       "\n",
       "  StackOverflowMakeMoney Gender HighestEducationParents  \\\n",
       "0      Strongly disagree   Male             High school   \n",
       "1      Strongly disagree   Male       A master's degree   \n",
       "2               Disagree   Male   A professional degree   \n",
       "3               Disagree   Male       A doctoral degree   \n",
       "4                    NaN    NaN                     NaN   \n",
       "\n",
       "                           Race         SurveyLong  QuestionsInteresting  \\\n",
       "0  White or of European descent  Strongly disagree        Strongly agree   \n",
       "1  White or of European descent     Somewhat agree        Somewhat agree   \n",
       "2  White or of European descent     Somewhat agree                 Agree   \n",
       "3  White or of European descent              Agree                 Agree   \n",
       "4                           NaN                NaN                   NaN   \n",
       "\n",
       "  QuestionsConfusing InterestedAnswers    Salary ExpectedSalary  \n",
       "0           Disagree    Strongly agree       NaN            NaN  \n",
       "1           Disagree    Strongly agree       NaN        37500.0  \n",
       "2           Disagree             Agree  113750.0            NaN  \n",
       "3     Somewhat agree    Strongly agree       NaN            NaN  \n",
       "4                NaN               NaN       NaN            NaN  \n",
       "\n",
       "[5 rows x 154 columns]"
      ]
     },
     "execution_count": 2,
     "metadata": {},
     "output_type": "execute_result"
    }
   ],
   "source": [
    "# Read data from Survey Results data file\n",
    "df = pd.read_csv('./survey_results_public.csv')\n",
    "\n",
    "df.head()"
   ]
  },
  {
   "cell_type": "markdown",
   "id": "6f05c331",
   "metadata": {},
   "source": [
    "## Determine Number of rows and columns in the dataset"
   ]
  },
  {
   "cell_type": "code",
   "execution_count": 3,
   "id": "9f691008",
   "metadata": {},
   "outputs": [
    {
     "name": "stdout",
     "output_type": "stream",
     "text": [
      "The input data file has 19102 rows and 154 columns\n"
     ]
    }
   ],
   "source": [
    "# Number of rows and columns in the input dataset\n",
    "print(f'The input data file has {df.shape[0]} rows and {df.shape[1]} columns')"
   ]
  },
  {
   "cell_type": "markdown",
   "id": "8a0a54ed",
   "metadata": {},
   "source": [
    "## Perform Data Wrangling\n",
    "We will create a curated dataset for answering our business questions. This would be done suitably applying some of the concets stated below:\n",
    "- change column names to business friendly names\n",
    "- change the data values to make suitable for presentation\n",
    "- change data values for answering business questions\n",
    "- add new columns with mapped data values"
   ]
  },
  {
   "cell_type": "code",
   "execution_count": 4,
   "id": "07efb730",
   "metadata": {},
   "outputs": [],
   "source": [
    "# Define a few dictionaries, to be used soon\n",
    "data_name_map = {'Respondent': 'Respondent',\n",
    "                 'Professional': 'Professional Type',\n",
    "                 'DeveloperType': 'Developer Type',\n",
    "                 'CompanyType': 'Organization Type',\n",
    "                 'EmploymentStatus': 'Employment Status',\n",
    "                 'Country': 'Country Name',\n",
    "                 'JobSatisfaction': 'Job Satisfaction', \n",
    "                 'CareerSatisfaction': 'Career Satisfaction', \n",
    "                 'Salary': 'Salary Amount', \n",
    "                 'HoursPerWeek': 'Job Hunting Time',\n",
    "                 'StackOverflowCommunity': 'Stack Overflow Community',\n",
    "                 'StackOverflowHelpful': 'Stack Overflow Helpful' \n",
    "                }\n",
    "\n",
    "job_sat_map = {\"Privately-held limited company, not in startup mode\": \"Private Limited Company\", \\\n",
    "               \"Publicly-traded corporation\": \"Public Corporation\", \\\n",
    "               \"I don't know\": \"Unknown\", \\\n",
    "               \"Sole proprietorship or partnership, not in startup mode\": \"Sole Prop/Partnership\", \\\n",
    "               \"Venture-funded startup\": \"Venture Funded Startup\", \\\n",
    "               \"Government agency or public school/university\": \"Government Organization\", \\\n",
    "               \"I prefer not to answer\": \"Not Answered\", \\\n",
    "               \"Pre-series A startup\": \"Pre-Series A Startup\", \\\n",
    "               \"Non-profit/non-governmental organization or private school/university\": \"Non-profit/Non-Govt Org\", \\\n",
    "               \"State-owned company\": \"State Owned Organization\", \\\n",
    "               \"Something else\": \"Other Organizations\"\n",
    "              }\n",
    "\n",
    "agr_lvl_map = {\"Strongly disagree\": 1,\n",
    "               \"Disagree\": 2,\n",
    "               \"Somewhat agree\": 3,\n",
    "               \"Agree\": 4,\n",
    "               \"Strongly agree\": 5\n",
    "              }\n"
   ]
  },
  {
   "cell_type": "code",
   "execution_count": 5,
   "id": "46df012c",
   "metadata": {},
   "outputs": [],
   "source": [
    "# Create new dataset - Job Satisfaction dataset\n",
    "js_df = df[['Professional', 'DeveloperType', 'CompanyType', 'EmploymentStatus', 'Country','JobSatisfaction', \\\n",
    "            'CareerSatisfaction', 'Salary', 'HoursPerWeek', 'StackOverflowCommunity', 'StackOverflowHelpful']].copy()\n",
    "# Rename columns\n",
    "js_df.rename(columns=data_name_map, inplace=True)\n"
   ]
  },
  {
   "cell_type": "code",
   "execution_count": 6,
   "id": "19f83c37",
   "metadata": {},
   "outputs": [
    {
     "name": "stdout",
     "output_type": "stream",
     "text": [
      "<class 'pandas.core.frame.DataFrame'>\n",
      "RangeIndex: 19102 entries, 0 to 19101\n",
      "Data columns (total 11 columns):\n",
      " #   Column                    Non-Null Count  Dtype  \n",
      "---  ------                    --------------  -----  \n",
      " 0   Professional Type         19102 non-null  object \n",
      " 1   Developer Type            13772 non-null  object \n",
      " 2   Organization Type         14609 non-null  object \n",
      " 3   Employment Status         19102 non-null  object \n",
      " 4   Country Name              19102 non-null  object \n",
      " 5   Job Satisfaction          15253 non-null  float64\n",
      " 6   Career Satisfaction       16102 non-null  float64\n",
      " 7   Salary Amount             5009 non-null   float64\n",
      " 8   Job Hunting Time          7721 non-null   float64\n",
      " 9   Stack Overflow Community  12064 non-null  object \n",
      " 10  Stack Overflow Helpful    12542 non-null  object \n",
      "dtypes: float64(4), object(7)\n",
      "memory usage: 1.6+ MB\n"
     ]
    }
   ],
   "source": [
    "# Manual check\n",
    "js_df.info()"
   ]
  },
  {
   "cell_type": "code",
   "execution_count": 7,
   "id": "c6f47766",
   "metadata": {},
   "outputs": [
    {
     "name": "stdout",
     "output_type": "stream",
     "text": [
      "<class 'pandas.core.frame.DataFrame'>\n",
      "RangeIndex: 19102 entries, 0 to 19101\n",
      "Data columns (total 11 columns):\n",
      " #   Column                    Non-Null Count  Dtype  \n",
      "---  ------                    --------------  -----  \n",
      " 0   Professional Type         19102 non-null  object \n",
      " 1   Developer Type            13772 non-null  object \n",
      " 2   Organization Type         14609 non-null  object \n",
      " 3   Employment Status         19102 non-null  object \n",
      " 4   Country Name              19102 non-null  object \n",
      " 5   Job Satisfaction          15253 non-null  float64\n",
      " 6   Career Satisfaction       16102 non-null  float64\n",
      " 7   Salary Amount             5009 non-null   float64\n",
      " 8   Job Hunting Time          7721 non-null   float64\n",
      " 9   Stack Overflow Community  12064 non-null  float64\n",
      " 10  Stack Overflow Helpful    12542 non-null  float64\n",
      "dtypes: float64(6), object(5)\n",
      "memory usage: 1.6+ MB\n"
     ]
    }
   ],
   "source": [
    "# Map Organization Type and Stack Overflow Community to shorter/suitable values\n",
    "js_df.replace({\"Organization Type\": job_sat_map}, inplace=True)\n",
    "js_df.replace({\"Stack Overflow Community\": agr_lvl_map}, inplace=True)\n",
    "js_df.replace({\"Stack Overflow Helpful\": agr_lvl_map}, inplace=True)\n",
    "# Cleanup the dataframe\n",
    "js_df.dropna(axis=0)\n",
    "js_df.info()\n"
   ]
  },
  {
   "cell_type": "markdown",
   "id": "33fbf27f",
   "metadata": {},
   "source": [
    "## Find Correlation between Job Satisfaction and other numerical columns\n",
    "We observe here that Job Satisfaction and Career Satisfaction are strongly correlated. Since they are very similar concepts, we will be focusing on Job Satisfaction (and ignore Career Satisfaction) and find it's association with other data. \n",
    "\n",
    "From the heatmap below, we get a general sense of how different numerical columns are correlated to each other. We also take this opportunity to normalize the column names.\n",
    "\n",
    "Later, in this notebook, we will be addressing business questions raised above."
   ]
  },
  {
   "cell_type": "code",
   "execution_count": 8,
   "id": "efb97c5e",
   "metadata": {},
   "outputs": [
    {
     "data": {
      "image/png": "[encoded data removed]",
      "text/plain": [
       "<Figure size 720x576 with 2 Axes>"
      ]
     },
     "metadata": {
      "needs_background": "light"
     },
     "output_type": "display_data"
    }
   ],
   "source": [
    "# Correlation between Job Satisfaction, Career Satisfaction, Salary amount, Job Hunting Time, \n",
    "# Stack Overflow Community and Stack Overflow Helpful\n",
    "\n",
    "corr = js_df.corr()\n",
    "\n",
    "plt.figure(figsize=(10, 8))\n",
    "sns.heatmap(corr, cmap='Greens', annot=True);  \n"
   ]
  },
  {
   "cell_type": "markdown",
   "id": "80d3ab70",
   "metadata": {},
   "source": [
    "## Helper Functions"
   ]
  },
  {
   "cell_type": "code",
   "execution_count": 9,
   "id": "9c1f3b7d",
   "metadata": {},
   "outputs": [],
   "source": [
    "def filter_and_serve_bar(df, pattern):\n",
    "    \"\"\"\n",
    "    Prepare data and draw bar plot for chosen pattern (e.g., Data scientist)\n",
    "    INPUT\n",
    "    - df - pandas dataframe contining data\n",
    "    - pattern - value for 'Developertype' column, possible values are: \n",
    "    -          'Data scientist', 'Web developer', 'Mobile developer'\n",
    "    OUTPUT\n",
    "    - None\n",
    "    \"\"\"\n",
    "    mask = df[['Developer Type']].apply(lambda col:col.str.contains(pattern, na=False, case=False)).any(axis=1)\n",
    "    fin_df = df[mask].loc[(df['Employment Status']=='Employed full-time') & \\\n",
    "                          (df['Country Name']=='United States') & \\\n",
    "                          (df['Organization Type'] != 'Not Answered') & \\\n",
    "                          (df['Organization Type'] != 'Unknown')] \\\n",
    "                        [['Organization Type', 'Job Satisfaction']].dropna(axis=0) \n",
    "\n",
    "    sum_df = fin_df.dropna(axis=0).groupby([\"Organization Type\"]).mean() \\\n",
    "             .sort_values(by='Job Satisfaction', axis=0, ascending=False)  \n",
    "    \n",
    "    sum_df.plot(kind='bar');\n",
    "    plt.title('Job Satisfaction - ' + pattern)\n",
    "    \n",
    "    return sum_df.round({'Job Satisfaction': 1})\n",
    "    "
   ]
  },
  {
   "cell_type": "markdown",
   "id": "1b50f9fa",
   "metadata": {},
   "source": [
    "## Q1: Does Job Satisfaction depend on Organization Type?\n",
    "- Identify top five Organization Types that exhibit hiest level of Job Satisfaction among employees.\n",
    "- Note: Only US resident full-time Data Scientists data to be used for answering this question. "
   ]
  },
  {
   "cell_type": "code",
   "execution_count": 10,
   "id": "cc128adb",
   "metadata": {},
   "outputs": [
    {
     "data": {
      "image/png": "[encoded data removed]",
      "text/plain": [
       "<Figure size 432x288 with 1 Axes>"
      ]
     },
     "metadata": {
      "needs_background": "light"
     },
     "output_type": "display_data"
    }
   ],
   "source": [
    "sum_df = filter_and_serve_bar(js_df, 'Data scientist')"
   ]
  },
  {
   "cell_type": "markdown",
   "id": "e4d3125b",
   "metadata": {},
   "source": [
    "## Q1 Answers"
   ]
  },
  {
   "cell_type": "code",
   "execution_count": 11,
   "id": "3c96f447",
   "metadata": {},
   "outputs": [
    {
     "name": "stdout",
     "output_type": "stream",
     "text": [
      "From the bar plot above it is clear that Job Satisfaction varies significantly by Organization Types. Organization Types with their average Job Satisfaction Ratings for US based full-time Data Scientists are shown here:\n",
      "\n",
      "Pre-Series A Startup\t9.0\n",
      "Government Organization\t8.3\n",
      "Sole Prop/Partnership\t8.1\n",
      "Private Limited Company\t7.7\n",
      "Venture Funded Startup\t7.4\n",
      "Public Corporation\t7.1\n",
      "Non-profit/Non-Govt Org\t6.5\n",
      "Other Organizations\t6.0\n",
      "\n"
     ]
    }
   ],
   "source": [
    "print('From the bar plot above it is clear that Job Satisfaction varies significantly by Organization Types.', \\\n",
    "'Organization Types with their average Job Satisfaction Ratings for US based full-time Data Scientists are shown here:\\n')\n",
    "print(sum_df.to_csv(header=None, sep='\\t'))\n"
   ]
  },
  {
   "cell_type": "markdown",
   "id": "66d11560",
   "metadata": {},
   "source": [
    "## Q2: Is there any correlation between Salary and Job Satisfaction?\n",
    "Note: Only US resident full-time Data Scientists data to be used for answering this question."
   ]
  },
  {
   "cell_type": "code",
   "execution_count": 12,
   "id": "a1de5e63",
   "metadata": {},
   "outputs": [],
   "source": [
    "# Gather data necessary for answering Q2 and Q3\n",
    "cols_to_check = ['Developer Type']\n",
    "pattern = 'Data scientist'\n",
    "mask = js_df[cols_to_check].apply(\n",
    "    lambda col:col.str.contains(\n",
    "    pattern, na=False, case=False)).any(axis=1)\n",
    "\n",
    "js_df = js_df[mask].loc[(js_df['Employment Status']=='Employed full-time') & (js_df['Country Name']=='United States')] \\\n",
    "        [['Job Satisfaction', 'Salary Amount', 'Job Hunting Time']].copy();\n"
   ]
  },
  {
   "cell_type": "code",
   "execution_count": 13,
   "id": "fa90c031",
   "metadata": {},
   "outputs": [
    {
     "data": {
      "image/png": "[encoded data removed]",
      "text/plain": [
       "<Figure size 540x360 with 1 Axes>"
      ]
     },
     "metadata": {
      "needs_background": "light"
     },
     "output_type": "display_data"
    }
   ],
   "source": [
    "# Draw a scatter plot with a regression line\n",
    "# Scatter plot with trend line between Job Hunting Hours/week and Job Satisfaction\n",
    "sl_df = js_df[['Salary Amount', 'Job Satisfaction']]\n",
    "\n",
    "corr = sl_df.corr()\n",
    "\n",
    "sl_df.dropna(axis=0)\n",
    "plot = sns.lmplot(x='Salary Amount', y='Job Satisfaction', data=sl_df, aspect=1.5, fit_reg=True, y_jitter=.5);\n",
    "plot.fig.suptitle(\"US Data Scientist's Salary Amount x Job Satisfaction\");\n"
   ]
  },
  {
   "cell_type": "markdown",
   "id": "2573edd4",
   "metadata": {},
   "source": [
    "## Q2 Answers"
   ]
  },
  {
   "cell_type": "code",
   "execution_count": 14,
   "id": "34667764",
   "metadata": {},
   "outputs": [
    {
     "name": "stdout",
     "output_type": "stream",
     "text": [
      "From the scatter plot with regression line, we can say that US Data Scientist's Job Hunting Time per week and Job Satisfaction are positively correlated.\n",
      "\n",
      "Correlation coefficient =  0.222\n"
     ]
    }
   ],
   "source": [
    "# Correlation matrix between Salary and Job Satisfaction\n",
    "corr_cf = corr['Salary Amount']['Job Satisfaction']\n",
    "if corr_cf < 0.0:\n",
    "    text_1 = 'negatively'\n",
    "else:\n",
    "    text_1 = 'positively'\n",
    "    \n",
    "print(\"From the scatter plot with regression line, we can say that US Data Scientist's\", \\\n",
    "      \"Job Hunting Time per week and Job Satisfaction are\", text_1, \"correlated.\\n\")\n",
    "print(\"Correlation coefficient = \", str(round(corr_cf, 3)))\n",
    "      "
   ]
  },
  {
   "cell_type": "markdown",
   "id": "2c67e658",
   "metadata": {},
   "source": [
    "## Q3: Does increase in Job Hunting Time indicate decline in Job Satisfaction?\n",
    "Note: Only US resident full-time Data Scientists data to be used for answering this question."
   ]
  },
  {
   "cell_type": "code",
   "execution_count": 15,
   "id": "11783320",
   "metadata": {},
   "outputs": [
    {
     "data": {
      "image/png": "[encoded data removed]",
      "text/plain": [
       "<Figure size 540x360 with 1 Axes>"
      ]
     },
     "metadata": {
      "needs_background": "light"
     },
     "output_type": "display_data"
    }
   ],
   "source": [
    "# Scatter plot with trend line between Job Hunting Hours/week and Job Satisfaction\n",
    "hw_df = js_df[['Job Hunting Time', 'Job Satisfaction']]\n",
    "\n",
    "corr2 = hw_df.corr()\n",
    "\n",
    "hw_df.dropna(axis=0)\n",
    "plot2 = sns.lmplot(x='Job Hunting Time', y='Job Satisfaction', data=hw_df, aspect=1.5, fit_reg=True, \\\n",
    "                   x_jitter=0.5, y_jitter=0.5);  \n",
    "plot2.fig.suptitle(\"US Data Scientist's Job Hunting Time x Job Satisfaction\");\n"
   ]
  },
  {
   "cell_type": "markdown",
   "id": "265a9438",
   "metadata": {},
   "source": [
    "## Q3 Answers"
   ]
  },
  {
   "cell_type": "code",
   "execution_count": 16,
   "id": "99794bfb",
   "metadata": {},
   "outputs": [
    {
     "name": "stdout",
     "output_type": "stream",
     "text": [
      "From the scatter plot with regression line, we can say that US Data Scientist's Job Hunting Time per week and Job Satisfaction are negatively correlated.\n",
      "\n",
      "Correlation coefficient =  -0.225\n"
     ]
    }
   ],
   "source": [
    "corr_cf = corr2['Job Hunting Time']['Job Satisfaction']\n",
    "if corr_cf < 0.0:\n",
    "    text_1 = 'negatively'\n",
    "else:\n",
    "    text_1 = 'positively'\n",
    "    \n",
    "print(\"From the scatter plot with regression line, we can say that US Data Scientist's\", \\\n",
    "      \"Job Hunting Time per week and Job Satisfaction are\", text_1, \"correlated.\\n\")\n",
    "print(\"Correlation coefficient = \", str(round(corr_cf, 3)))"
   ]
  },
  {
   "cell_type": "markdown",
   "id": "e97fa376",
   "metadata": {},
   "source": [
    "## End of notebook"
   ]
  }
 ],
 "metadata": {
  "kernelspec": {
   "display_name": "Python 3 (ipykernel)",
   "language": "python",
   "name": "python3"
  },
  "language_info": {
   "codemirror_mode": {
    "name": "ipython",
    "version": 3
   },
   "file_extension": ".py",
   "mimetype": "text/x-python",
   "name": "python",
   "nbconvert_exporter": "python",
   "pygments_lexer": "ipython3",
   "version": "3.9.12"
  }
 },
 "nbformat": 4,
 "nbformat_minor": 5
}
